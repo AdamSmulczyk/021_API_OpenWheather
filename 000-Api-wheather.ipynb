{
 "cells": [
  {
   "cell_type": "code",
   "execution_count": null,
   "id": "6d99017c",
   "metadata": {},
   "outputs": [],
   "source": [
    "# https://openweathermap.org/api"
   ]
  },
  {
   "cell_type": "code",
   "execution_count": null,
   "id": "8037f5e9",
   "metadata": {},
   "outputs": [],
   "source": [
    "#  API key:  e4bdbda3f1871fe8b7ebffc46c9f7db6"
   ]
  },
  {
   "cell_type": "code",
   "execution_count": 94,
   "id": "223246cb",
   "metadata": {},
   "outputs": [],
   "source": [
    "import pandas as pd\n",
    "import json\n",
    "import requests"
   ]
  },
  {
   "cell_type": "code",
   "execution_count": 101,
   "id": "fe100f14",
   "metadata": {},
   "outputs": [],
   "source": [
    "pd.set_option('display.max_columns', None)\n",
    "pd.options.display.max_rows=100"
   ]
  },
  {
   "cell_type": "code",
   "execution_count": null,
   "id": "39687dbc",
   "metadata": {},
   "outputs": [],
   "source": [
    "https://api.openweathermap.org/data/3.0/onecall?lat={lat}&lon={lon}&exclude={part}&appid={api_key}\n",
    "https://api.openweathermap.org/data/2.5/weather?q=London,uk&APPID=e4bdbda3f1871fe8b7ebffc46c9f7db6"
   ]
  },
  {
   "cell_type": "code",
   "execution_count": 15,
   "id": "09485763",
   "metadata": {},
   "outputs": [],
   "source": [
    "#  SUBSCRIBE\n",
    "lat = '52.237049'\n",
    "lon = '21.017532'\n",
    "part = 'current'\n",
    "api_key = 'e4bdbda3f1871fe8b7ebffc46c9f7db6'\n",
    "api_url = f'https://api.openweathermap.org/data/3.0/onecall?lat={lat}&lon={lon}&exclude={part}&appid={api_key}'"
   ]
  },
  {
   "cell_type": "code",
   "execution_count": 82,
   "id": "4fc3d0f2",
   "metadata": {},
   "outputs": [],
   "source": [
    "# FREE ACCESS\n",
    "city_name = 'Warsaw'\n",
    "units = 'metric' # C 'metrics',  F 'imperial', K 'standartd' efault\n",
    "lang = 'pl' # Field 'description' wil be translated\n",
    "api_key = 'e4bdbda3f1871fe8b7ebffc46c9f7db6'\n",
    "api_url = f'https://api.openweathermap.org/data/2.5/weather?q={city_name}&APPID={api_key}&units={units}&lang={lang}'"
   ]
  },
  {
   "cell_type": "code",
   "execution_count": 83,
   "id": "8ca3683f",
   "metadata": {
    "scrolled": true
   },
   "outputs": [
    {
     "name": "stdout",
     "output_type": "stream",
     "text": [
      "<Response [200]>\n"
     ]
    }
   ],
   "source": [
    "response = requests.get(api_url)\n",
    "print(response)"
   ]
  },
  {
   "cell_type": "code",
   "execution_count": 84,
   "id": "19995e4f",
   "metadata": {},
   "outputs": [
    {
     "name": "stdout",
     "output_type": "stream",
     "text": [
      "{'coord': {'lon': 21.0118, 'lat': 52.2298}, 'weather': [{'id': 800, 'main': 'Clear', 'description': 'bezchmurnie', 'icon': '01d'}], 'base': 'stations', 'main': {'temp': 6.78, 'feels_like': 4.56, 'temp_min': 5.68, 'temp_max': 8.08, 'pressure': 1015, 'humidity': 77, 'sea_level': 1015, 'grnd_level': 1004}, 'visibility': 10000, 'wind': {'speed': 3.13, 'deg': 160, 'gust': 0}, 'clouds': {'all': 0}, 'dt': 1732615541, 'sys': {'type': 2, 'id': 2032856, 'country': 'PL', 'sunrise': 1732601744, 'sunset': 1732631480}, 'timezone': 3600, 'id': 756135, 'name': 'Warszawa', 'cod': 200}\n"
     ]
    }
   ],
   "source": [
    "data = response.json()\n",
    "print(data)"
   ]
  },
  {
   "cell_type": "code",
   "execution_count": 102,
   "id": "c195f8b5",
   "metadata": {},
   "outputs": [
    {
     "data": {
      "text/html": [
       "<div>\n",
       "<style scoped>\n",
       "    .dataframe tbody tr th:only-of-type {\n",
       "        vertical-align: middle;\n",
       "    }\n",
       "\n",
       "    .dataframe tbody tr th {\n",
       "        vertical-align: top;\n",
       "    }\n",
       "\n",
       "    .dataframe thead th {\n",
       "        text-align: right;\n",
       "    }\n",
       "</style>\n",
       "<table border=\"1\" class=\"dataframe\">\n",
       "  <thead>\n",
       "    <tr style=\"text-align: right;\">\n",
       "      <th></th>\n",
       "      <th>weather</th>\n",
       "      <th>base</th>\n",
       "      <th>visibility</th>\n",
       "      <th>dt</th>\n",
       "      <th>timezone</th>\n",
       "      <th>id</th>\n",
       "      <th>name</th>\n",
       "      <th>cod</th>\n",
       "      <th>coord.lon</th>\n",
       "      <th>coord.lat</th>\n",
       "      <th>main.temp</th>\n",
       "      <th>main.feels_like</th>\n",
       "      <th>main.temp_min</th>\n",
       "      <th>main.temp_max</th>\n",
       "      <th>main.pressure</th>\n",
       "      <th>main.humidity</th>\n",
       "      <th>main.sea_level</th>\n",
       "      <th>main.grnd_level</th>\n",
       "      <th>wind.speed</th>\n",
       "      <th>wind.deg</th>\n",
       "      <th>wind.gust</th>\n",
       "      <th>clouds.all</th>\n",
       "      <th>sys.type</th>\n",
       "      <th>sys.id</th>\n",
       "      <th>sys.country</th>\n",
       "      <th>sys.sunrise</th>\n",
       "      <th>sys.sunset</th>\n",
       "    </tr>\n",
       "  </thead>\n",
       "  <tbody>\n",
       "    <tr>\n",
       "      <th>0</th>\n",
       "      <td>[{'id': 800, 'main': 'Clear', 'description': '...</td>\n",
       "      <td>stations</td>\n",
       "      <td>10000</td>\n",
       "      <td>1732615541</td>\n",
       "      <td>3600</td>\n",
       "      <td>756135</td>\n",
       "      <td>Warszawa</td>\n",
       "      <td>200</td>\n",
       "      <td>21.0118</td>\n",
       "      <td>52.2298</td>\n",
       "      <td>6.78</td>\n",
       "      <td>4.56</td>\n",
       "      <td>5.68</td>\n",
       "      <td>8.08</td>\n",
       "      <td>1015</td>\n",
       "      <td>77</td>\n",
       "      <td>1015</td>\n",
       "      <td>1004</td>\n",
       "      <td>3.13</td>\n",
       "      <td>160</td>\n",
       "      <td>0</td>\n",
       "      <td>0</td>\n",
       "      <td>2</td>\n",
       "      <td>2032856</td>\n",
       "      <td>PL</td>\n",
       "      <td>1732601744</td>\n",
       "      <td>1732631480</td>\n",
       "    </tr>\n",
       "  </tbody>\n",
       "</table>\n",
       "</div>"
      ],
      "text/plain": [
       "                                             weather      base  visibility  \\\n",
       "0  [{'id': 800, 'main': 'Clear', 'description': '...  stations       10000   \n",
       "\n",
       "           dt  timezone      id      name  cod  coord.lon  coord.lat  \\\n",
       "0  1732615541      3600  756135  Warszawa  200    21.0118    52.2298   \n",
       "\n",
       "   main.temp  main.feels_like  main.temp_min  main.temp_max  main.pressure  \\\n",
       "0       6.78             4.56           5.68           8.08           1015   \n",
       "\n",
       "   main.humidity  main.sea_level  main.grnd_level  wind.speed  wind.deg  \\\n",
       "0             77            1015             1004        3.13       160   \n",
       "\n",
       "   wind.gust  clouds.all  sys.type   sys.id sys.country  sys.sunrise  \\\n",
       "0          0           0         2  2032856          PL   1732601744   \n",
       "\n",
       "   sys.sunset  \n",
       "0  1732631480  "
      ]
     },
     "execution_count": 102,
     "metadata": {},
     "output_type": "execute_result"
    }
   ],
   "source": [
    "pd.json_normalize(data)"
   ]
  },
  {
   "cell_type": "code",
   "execution_count": 98,
   "id": "e12254fd",
   "metadata": {},
   "outputs": [
    {
     "data": {
      "text/html": [
       "<div>\n",
       "<style scoped>\n",
       "    .dataframe tbody tr th:only-of-type {\n",
       "        vertical-align: middle;\n",
       "    }\n",
       "\n",
       "    .dataframe tbody tr th {\n",
       "        vertical-align: top;\n",
       "    }\n",
       "\n",
       "    .dataframe thead th {\n",
       "        text-align: right;\n",
       "    }\n",
       "</style>\n",
       "<table border=\"1\" class=\"dataframe\">\n",
       "  <thead>\n",
       "    <tr style=\"text-align: right;\">\n",
       "      <th></th>\n",
       "      <th>id</th>\n",
       "      <th>main</th>\n",
       "      <th>description</th>\n",
       "      <th>icon</th>\n",
       "    </tr>\n",
       "  </thead>\n",
       "  <tbody>\n",
       "    <tr>\n",
       "      <th>0</th>\n",
       "      <td>800</td>\n",
       "      <td>Clear</td>\n",
       "      <td>bezchmurnie</td>\n",
       "      <td>01d</td>\n",
       "    </tr>\n",
       "  </tbody>\n",
       "</table>\n",
       "</div>"
      ],
      "text/plain": [
       "    id   main  description icon\n",
       "0  800  Clear  bezchmurnie  01d"
      ]
     },
     "execution_count": 98,
     "metadata": {},
     "output_type": "execute_result"
    }
   ],
   "source": [
    "pd.json_normalize(data['weather'])"
   ]
  },
  {
   "cell_type": "code",
   "execution_count": 99,
   "id": "1d4e8aac",
   "metadata": {},
   "outputs": [
    {
     "data": {
      "text/html": [
       "<div>\n",
       "<style scoped>\n",
       "    .dataframe tbody tr th:only-of-type {\n",
       "        vertical-align: middle;\n",
       "    }\n",
       "\n",
       "    .dataframe tbody tr th {\n",
       "        vertical-align: top;\n",
       "    }\n",
       "\n",
       "    .dataframe thead th {\n",
       "        text-align: right;\n",
       "    }\n",
       "</style>\n",
       "<table border=\"1\" class=\"dataframe\">\n",
       "  <thead>\n",
       "    <tr style=\"text-align: right;\">\n",
       "      <th></th>\n",
       "      <th>temp</th>\n",
       "      <th>feels_like</th>\n",
       "      <th>temp_min</th>\n",
       "      <th>temp_max</th>\n",
       "      <th>pressure</th>\n",
       "      <th>humidity</th>\n",
       "      <th>sea_level</th>\n",
       "      <th>grnd_level</th>\n",
       "    </tr>\n",
       "  </thead>\n",
       "  <tbody>\n",
       "    <tr>\n",
       "      <th>0</th>\n",
       "      <td>6.78</td>\n",
       "      <td>4.56</td>\n",
       "      <td>5.68</td>\n",
       "      <td>8.08</td>\n",
       "      <td>1015</td>\n",
       "      <td>77</td>\n",
       "      <td>1015</td>\n",
       "      <td>1004</td>\n",
       "    </tr>\n",
       "  </tbody>\n",
       "</table>\n",
       "</div>"
      ],
      "text/plain": [
       "   temp  feels_like  temp_min  temp_max  pressure  humidity  sea_level  \\\n",
       "0  6.78        4.56      5.68      8.08      1015        77       1015   \n",
       "\n",
       "   grnd_level  \n",
       "0        1004  "
      ]
     },
     "execution_count": 99,
     "metadata": {},
     "output_type": "execute_result"
    }
   ],
   "source": [
    "pd.json_normalize(data['main'])"
   ]
  },
  {
   "cell_type": "code",
   "execution_count": 85,
   "id": "ef14652e",
   "metadata": {},
   "outputs": [
    {
     "name": "stdout",
     "output_type": "stream",
     "text": [
      "{\n",
      "    \"coord\": {\n",
      "        \"lon\": 21.0118,\n",
      "        \"lat\": 52.2298\n",
      "    },\n",
      "    \"weather\": [\n",
      "        {\n",
      "            \"id\": 800,\n",
      "            \"main\": \"Clear\",\n",
      "            \"description\": \"bezchmurnie\",\n",
      "            \"icon\": \"01d\"\n",
      "        }\n",
      "    ],\n",
      "    \"base\": \"stations\",\n",
      "    \"main\": {\n",
      "        \"temp\": 6.78,\n",
      "        \"feels_like\": 4.56,\n",
      "        \"temp_min\": 5.68,\n",
      "        \"temp_max\": 8.08,\n",
      "        \"pressure\": 1015,\n",
      "        \"humidity\": 77,\n",
      "        \"sea_level\": 1015,\n",
      "        \"grnd_level\": 1004\n",
      "    },\n",
      "    \"visibility\": 10000,\n",
      "    \"wind\": {\n",
      "        \"speed\": 3.13,\n",
      "        \"deg\": 160,\n",
      "        \"gust\": 0\n",
      "    },\n",
      "    \"clouds\": {\n",
      "        \"all\": 0\n",
      "    },\n",
      "    \"dt\": 1732615541,\n",
      "    \"sys\": {\n",
      "        \"type\": 2,\n",
      "        \"id\": 2032856,\n",
      "        \"country\": \"PL\",\n",
      "        \"sunrise\": 1732601744,\n",
      "        \"sunset\": 1732631480\n",
      "    },\n",
      "    \"timezone\": 3600,\n",
      "    \"id\": 756135,\n",
      "    \"name\": \"Warszawa\",\n",
      "    \"cod\": 200\n",
      "}\n"
     ]
    }
   ],
   "source": [
    "data_json = json.dumps(data, indent=4)\n",
    "print(data_json)"
   ]
  },
  {
   "cell_type": "code",
   "execution_count": 86,
   "id": "0be55837",
   "metadata": {},
   "outputs": [
    {
     "name": "stdout",
     "output_type": "stream",
     "text": [
      "{'id': 800, 'main': 'Clear', 'description': 'bezchmurnie', 'icon': '01d'}\n"
     ]
    }
   ],
   "source": [
    "a = data['weather'][0]\n",
    "print(a)"
   ]
  },
  {
   "cell_type": "code",
   "execution_count": 87,
   "id": "f0189704",
   "metadata": {},
   "outputs": [
    {
     "name": "stdout",
     "output_type": "stream",
     "text": [
      "bezchmurnie\n"
     ]
    }
   ],
   "source": [
    "aa = data['weather'][0]['description']\n",
    "print(aa)"
   ]
  },
  {
   "cell_type": "code",
   "execution_count": 89,
   "id": "408f309c",
   "metadata": {},
   "outputs": [
    {
     "name": "stdout",
     "output_type": "stream",
     "text": [
      "Warszawa\n"
     ]
    }
   ],
   "source": [
    "b = data['name']\n",
    "print(b)"
   ]
  },
  {
   "cell_type": "code",
   "execution_count": 88,
   "id": "c30fe61b",
   "metadata": {},
   "outputs": [
    {
     "name": "stdout",
     "output_type": "stream",
     "text": [
      "Temperatura: 6.78\n"
     ]
    }
   ],
   "source": [
    "c = data['main']['temp']\n",
    "print(f'Temperatura: {c}')"
   ]
  },
  {
   "cell_type": "code",
   "execution_count": 92,
   "id": "db2d6278",
   "metadata": {},
   "outputs": [
    {
     "name": "stdout",
     "output_type": "stream",
     "text": [
      "Warszawa: dzisiaj jest 6.78 stopni C i jest bezchmurnie\n"
     ]
    }
   ],
   "source": [
    "print(f'{b}: dzisiaj jest {c} stopni C i jest {aa}')"
   ]
  }
 ],
 "metadata": {
  "kernelspec": {
   "display_name": "Python 3 (ipykernel)",
   "language": "python",
   "name": "python3"
  },
  "language_info": {
   "codemirror_mode": {
    "name": "ipython",
    "version": 3
   },
   "file_extension": ".py",
   "mimetype": "text/x-python",
   "name": "python",
   "nbconvert_exporter": "python",
   "pygments_lexer": "ipython3",
   "version": "3.11.5"
  }
 },
 "nbformat": 4,
 "nbformat_minor": 5
}
